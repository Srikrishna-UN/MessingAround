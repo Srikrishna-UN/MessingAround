{
 "cells": [
  {
   "cell_type": "code",
   "execution_count": 1,
   "metadata": {
    "collapsed": true,
    "ExecuteTime": {
     "end_time": "2024-01-10T23:50:22.676774900Z",
     "start_time": "2024-01-10T23:50:22.652185900Z"
    }
   },
   "outputs": [],
   "source": [
    "import os\n"
   ]
  },
  {
   "cell_type": "code",
   "execution_count": 15,
   "outputs": [
    {
     "name": "stdout",
     "output_type": "stream",
     "text": [
      ".idea is a directory\n"
     ]
    }
   ],
   "source": [
    "files_list = []\n",
    "for file in os.listdir(\"../../../\"):\n",
    "    files_list.append(file)\n",
    "    # if os.path.isdir(file):\n",
    "    #     print(file)\n",
    "    # if file.endswith(\".txt\"):\n",
    "    #     with open(file,\"r\") as doc:\n",
    "    #         print(doc.read())\n",
    "for i in range(0,len(files_list),1):\n",
    "    if os.path.isdir(files_list[i]):\n",
    "        print(f\"{files_list[i]} is a directory\")\n"
   ],
   "metadata": {
    "collapsed": false,
    "ExecuteTime": {
     "end_time": "2024-01-11T00:04:01.912151800Z",
     "start_time": "2024-01-11T00:04:01.905680600Z"
    }
   }
  },
  {
   "cell_type": "code",
   "execution_count": 20,
   "outputs": [
    {
     "data": {
      "text/plain": "True"
     },
     "execution_count": 20,
     "metadata": {},
     "output_type": "execute_result"
    }
   ],
   "source": [
    "os.path.isdir(os.getcwd())"
   ],
   "metadata": {
    "collapsed": false,
    "ExecuteTime": {
     "end_time": "2024-01-11T00:07:54.900746700Z",
     "start_time": "2024-01-11T00:07:54.850903500Z"
    }
   }
  },
  {
   "cell_type": "code",
   "execution_count": 35,
   "outputs": [
    {
     "name": "stdout",
     "output_type": "stream",
     "text": [
      "Dirs:['.idea', '.ipynb_checkpoints', 'archive', 'MP_data']\n",
      "Files:['0.npy', 'Action Detection Refined.ipynb', 'PrePro.ipynb', 'probs.ipynb', 'SignLangDetect.ipynb']\n"
     ]
    }
   ],
   "source": [
    "def check1():\n",
    "    list1 = os.listdir()\n",
    "    list2 = []\n",
    "    list3 = []\n",
    "    for i,file in enumerate(list1):\n",
    "        if os.path.isdir(file):\n",
    "            list2.append(file)\n",
    "        else:\n",
    "            list3.append(file)\n",
    "    return list2,list3\n",
    "\n",
    "t1 = check1()\n",
    "print(f\"Dirs:{t1[0]}\")\n",
    "print(f\"Files:{t1[1]}\")"
   ],
   "metadata": {
    "collapsed": false,
    "ExecuteTime": {
     "end_time": "2024-01-11T00:20:43.317396Z",
     "start_time": "2024-01-11T00:20:43.304633700Z"
    }
   }
  },
  {
   "cell_type": "code",
   "execution_count": 51,
   "outputs": [
    {
     "ename": "FileNotFoundError",
     "evalue": "[WinError 2] The system cannot find the file specified: '/MP_data'",
     "output_type": "error",
     "traceback": [
      "\u001B[1;31m---------------------------------------------------------------------------\u001B[0m",
      "\u001B[1;31mFileNotFoundError\u001B[0m                         Traceback (most recent call last)",
      "Cell \u001B[1;32mIn[51], line 5\u001B[0m\n\u001B[0;32m      3\u001B[0m fname \u001B[38;5;241m=\u001B[39m os\u001B[38;5;241m.\u001B[39mpath\u001B[38;5;241m.\u001B[39mjoin(\u001B[38;5;124m\"\u001B[39m\u001B[38;5;124m/\u001B[39m\u001B[38;5;124m\"\u001B[39m\u001B[38;5;241m+\u001B[39mt1[\u001B[38;5;241m0\u001B[39m][\u001B[38;5;241m3\u001B[39m])\n\u001B[0;32m      4\u001B[0m os\u001B[38;5;241m.\u001B[39mgetcwd()\n\u001B[1;32m----> 5\u001B[0m \u001B[43mos\u001B[49m\u001B[38;5;241;43m.\u001B[39;49m\u001B[43mchdir\u001B[49m\u001B[43m(\u001B[49m\u001B[43mfname\u001B[49m\u001B[43m)\u001B[49m\n\u001B[0;32m      6\u001B[0m \u001B[38;5;66;03m# t2 = check1()\u001B[39;00m\n",
      "\u001B[1;31mFileNotFoundError\u001B[0m: [WinError 2] The system cannot find the file specified: '/MP_data'"
     ]
    }
   ],
   "source": [
    "list4 = []\n",
    "list5 = []\n",
    "fname = os.path.join(\"/\"+t1[0][3])\n",
    "os.getcwd()\n",
    "os.chdir(fname)\n",
    "# t2 = check1()"
   ],
   "metadata": {
    "collapsed": false,
    "ExecuteTime": {
     "end_time": "2024-01-11T00:49:39.651721500Z",
     "start_time": "2024-01-11T00:49:39.605931300Z"
    }
   }
  },
  {
   "cell_type": "code",
   "execution_count": 48,
   "outputs": [
    {
     "ename": "ValueError",
     "evalue": "too many values to unpack (expected 3)",
     "output_type": "error",
     "traceback": [
      "\u001B[1;31m---------------------------------------------------------------------------\u001B[0m",
      "\u001B[1;31mValueError\u001B[0m                                Traceback (most recent call last)",
      "Cell \u001B[1;32mIn[48], line 1\u001B[0m\n\u001B[1;32m----> 1\u001B[0m path,dirname,file \u001B[38;5;241m=\u001B[39m os\u001B[38;5;241m.\u001B[39mwalk(os\u001B[38;5;241m.\u001B[39mgetcwd())\n\u001B[0;32m      2\u001B[0m \u001B[38;5;28mprint\u001B[39m(dirname)\n",
      "\u001B[1;31mValueError\u001B[0m: too many values to unpack (expected 3)"
     ]
    }
   ],
   "source": [
    "path,dirname,file = os.walk(os.getcwd())\n",
    "print(dirname)"
   ],
   "metadata": {
    "collapsed": false,
    "ExecuteTime": {
     "end_time": "2024-01-11T00:33:03.437576500Z",
     "start_time": "2024-01-11T00:33:03.302336500Z"
    }
   }
  }
 ],
 "metadata": {
  "kernelspec": {
   "display_name": "Python 3",
   "language": "python",
   "name": "python3"
  },
  "language_info": {
   "codemirror_mode": {
    "name": "ipython",
    "version": 2
   },
   "file_extension": ".py",
   "mimetype": "text/x-python",
   "name": "python",
   "nbconvert_exporter": "python",
   "pygments_lexer": "ipython2",
   "version": "2.7.6"
  }
 },
 "nbformat": 4,
 "nbformat_minor": 0
}
